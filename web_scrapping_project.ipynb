{
 "cells": [
  {
   "cell_type": "code",
   "execution_count": 1,
   "metadata": {},
   "outputs": [],
   "source": [
    "import pandas as pd \n",
    "import selenium\n",
    "from selenium import webdriver\n",
    "import time\n",
    "from selenium.common.exceptions import StaleElementReferenceException, NoSuchElementException"
   ]
  },
  {
   "cell_type": "code",
   "execution_count": 2,
   "metadata": {},
   "outputs": [],
   "source": [
    "Review=[]\n",
    "Rating =[]"
   ]
  },
  {
   "cell_type": "code",
   "execution_count": 3,
   "metadata": {},
   "outputs": [],
   "source": [
    "driver=webdriver.Chrome(\"chromedriver.exe\")\n",
    "url =\"https://www.flipkart.com/apple-iphone-11-black-64-gb-includes-earpods-power-adapter/product-reviews/itm0f37c2240b217?pid=MOBFKCTSVZAXUHGR&lid=LSTMOBFKCTSVZAXUHGREPBFGI&marketplace=FLIPKART\"\n",
    "driver.get(url)\n",
    "urls = []\n",
    "for i in range(10):\n",
    "    url = driver.find_element_by_xpath(\"//a[@class='ge-49M']\").get_attribute('href')\n",
    "    driver.get(url)\n",
    "    for l in driver.find_elements_by_xpath(\"//p[@class='_2-N8zT']\"):\n",
    "        Review.append(l.text)\n",
    "    for j in driver.find_elements_by_xpath(\"//div[@class='_3LWZlK _1BLPMq']\"):\n",
    "        Rating.append(j.text)\n",
    "    "
   ]
  },
  {
   "cell_type": "code",
   "execution_count": 4,
   "metadata": {},
   "outputs": [
    {
     "data": {
      "text/plain": [
       "100"
      ]
     },
     "execution_count": 4,
     "metadata": {},
     "output_type": "execute_result"
    }
   ],
   "source": [
    "len(Rating)"
   ]
  },
  {
   "cell_type": "code",
   "execution_count": 5,
   "metadata": {},
   "outputs": [
    {
     "data": {
      "text/plain": [
       "100"
      ]
     },
     "execution_count": 5,
     "metadata": {},
     "output_type": "execute_result"
    }
   ],
   "source": [
    "len(Review)"
   ]
  },
  {
   "cell_type": "code",
   "execution_count": 6,
   "metadata": {},
   "outputs": [],
   "source": [
    "driver=webdriver.Chrome(\"chromedriver.exe\")\n",
    "url ='https://www.flipkart.com/lenovo-ideapad-s145-ryzen-3-dual-core-3200u-4-gb-1-tb-hdd-windows-10-home-s145-15api-thin-light-laptop/product-reviews/itm3028b196c8fe1?pid=COMFJM3T7ZF2Z86F&lid=LSTCOMFJM3T7ZF2Z86FUWBWK9&marketplace=FLIPKART'\n",
    "\n",
    "driver.get(url)\n",
    "urls = []\n",
    "for i in range(10):\n",
    "    url = driver.find_element_by_xpath(\"//a[@class='ge-49M']\").get_attribute('href')\n",
    "    driver.get(url)\n",
    "    for l in driver.find_elements_by_xpath(\"//p[@class='_2-N8zT']\"):\n",
    "        Review.append(l.text)\n",
    "    for j in driver.find_elements_by_xpath(\"//div[@class='_3LWZlK _1BLPMq']\"):\n",
    "        Rating.append(j.text)"
   ]
  },
  {
   "cell_type": "code",
   "execution_count": 7,
   "metadata": {},
   "outputs": [
    {
     "data": {
      "text/plain": [
       "200"
      ]
     },
     "execution_count": 7,
     "metadata": {},
     "output_type": "execute_result"
    }
   ],
   "source": [
    "len(Rating)"
   ]
  },
  {
   "cell_type": "code",
   "execution_count": 8,
   "metadata": {},
   "outputs": [
    {
     "data": {
      "text/plain": [
       "200"
      ]
     },
     "execution_count": 8,
     "metadata": {},
     "output_type": "execute_result"
    }
   ],
   "source": [
    "len(Review)"
   ]
  },
  {
   "cell_type": "code",
   "execution_count": 9,
   "metadata": {},
   "outputs": [],
   "source": [
    "for i in range(1,79):\n",
    "    \n",
    "    driver.get(f'https://www.flipkart.com/lenovo-ideapad-s145-ryzen-3-dual-core-3200u-4-gb-1-tb-hdd-windows-10-home-s145-15api-thin-light-laptop/product-reviews/itm3028b196c8fe1?pid=COMFJM3T7ZF2Z86F&lid=LSTCOMFJM3T7ZF2Z86FUWBWK9&marketplace=FLIPKART&page={i}')\n",
    "    \n",
    "    main = driver.find_elements_by_xpath(\"//div[@class='col _2wzgFH K0kLPL']\")\n",
    "    for j in main:\n",
    "        try:\n",
    "            review = j.find_element_by_xpath(\".//div[@class='t-ZTKy']/div/div\")\n",
    "            Review.append(review.text)\n",
    "            rating = j.find_element_by_xpath(\"./div/div\")\n",
    "            Rating.append(rating.text)\n",
    "        except NoSuchElementException:\n",
    "            Review.append('-')\n",
    "            Rating.append(\"-\")"
   ]
  },
  {
   "cell_type": "code",
   "execution_count": 10,
   "metadata": {},
   "outputs": [],
   "source": [
    "for i in range(1,83):\n",
    "    \n",
    "    driver.get(f'https://www.flipkart.com/nu-republic-dawn-x1-bluetooth-headset/product-reviews/itm2005d4e4c5ca1?pid=ACCFZ6YHWKD2JDAG&lid=LSTACCFZ6YHWKD2JDAGN3XPED&marketplace=FLIPKART&page={i}')\n",
    "    \n",
    "    main = driver.find_elements_by_xpath(\"//div[@class='col _2wzgFH K0kLPL']\")\n",
    "    for j in main:\n",
    "        try:\n",
    "            review = j.find_element_by_xpath(\".//div[@class='t-ZTKy']/div/div\")\n",
    "            Review.append(review.text)\n",
    "            rating = j.find_element_by_xpath(\"./div/div\")\n",
    "            Rating.append(rating.text)\n",
    "        except NoSuchElementException:\n",
    "            Review.append('-')\n",
    "            Rating.append(\"-\")"
   ]
  },
  {
   "cell_type": "code",
   "execution_count": 11,
   "metadata": {},
   "outputs": [],
   "source": [
    "for i in range(20,88):\n",
    "    \n",
    "    driver.get(f'https://www.flipkart.com/hp-pavilion-gaming-ryzen-5-quad-core-3550h-8-gb-1-tb-hdd-windows-10-home-4-gb-graphics-nvidia-geforce-gtx-1650-15-ec0101ax-laptop/product-reviews/itma1af6bf593dc8?pid=COMFSFNVDXG74QXR&lid=LSTCOMFSFNVDXG74QXRY8FRH2&aid=overall&certifiedBuyer=false&sortOrder=NEGATIVE_FIRST&page={i}')\n",
    "    \n",
    "    main = driver.find_elements_by_xpath(\"//div[@class='col _2wzgFH K0kLPL']\")\n",
    "    for j in main:\n",
    "        try:\n",
    "            review = j.find_element_by_xpath(\".//div[@class='t-ZTKy']/div/div\")\n",
    "            Review.append(review.text)\n",
    "            rating = j.find_element_by_xpath(\"./div/div\")\n",
    "            Rating.append(rating.text)\n",
    "        except NoSuchElementException:\n",
    "            Review.append('-')\n",
    "            Rating.append(\"-\")"
   ]
  },
  {
   "cell_type": "code",
   "execution_count": 12,
   "metadata": {},
   "outputs": [],
   "source": [
    "for i in range(1,93):\n",
    "    \n",
    "    driver.get(f'https://www.flipkart.com/acer-aspire-7-ryzen-5-quad-core-3550h-8-gb-512-gb-ssd-windows-10-home-4-graphics-nvidia-geforce-gtx-1650-60-hz-a715-41g-r6s8-gaming-laptop/product-reviews/itm56e58b0c59ea3?pid=COMFUUJGMZCNJDZH&lid=LSTCOMFUUJGMZCNJDZHGUDORZ&marketplace=FLIPKART&page={i}')\n",
    "    \n",
    "    main = driver.find_elements_by_xpath(\"//div[@class='col _2wzgFH K0kLPL']\")\n",
    "    for j in main:\n",
    "        try:\n",
    "            review = j.find_element_by_xpath(\".//div[@class='t-ZTKy']/div/div\")\n",
    "            Review.append(review.text)\n",
    "            rating = j.find_element_by_xpath(\"./div/div\")\n",
    "            Rating.append(rating.text)\n",
    "        except NoSuchElementException:\n",
    "            Review.append('-')\n",
    "            Rating.append(\"-\")"
   ]
  },
  {
   "cell_type": "code",
   "execution_count": 13,
   "metadata": {},
   "outputs": [],
   "source": [
    "for i in range(8,33):\n",
    "    \n",
    "    driver.get(f'https://www.flipkart.com/lenovo-tab-m10-hd-2-gb-ram-32-rom-10-1-inch-wi-fi-only-tablet-slate-black/product-reviews/itm7b4e455b25c7e?pid=TABFKHFQEFDJEHBA&lid=LSTTABFKHFQEFDJEHBA39PSEP&aid=overall&certifiedBuyer=false&sortOrder=NEGATIVE_FIRST&page={i}')\n",
    "    \n",
    "    main = driver.find_elements_by_xpath(\"//div[@class='col _2wzgFH K0kLPL']\")\n",
    "    for j in main:\n",
    "        try:\n",
    "            review = j.find_element_by_xpath(\".//div[@class='t-ZTKy']/div/div\")\n",
    "            Review.append(review.text)\n",
    "            rating = j.find_element_by_xpath(\"./div/div\")\n",
    "            Rating.append(rating.text)\n",
    "        except NoSuchElementException:\n",
    "            Review.append('-')\n",
    "            Rating.append(\"-\")"
   ]
  },
  {
   "cell_type": "code",
   "execution_count": 14,
   "metadata": {},
   "outputs": [],
   "source": [
    "for i in range(5,39):\n",
    "    \n",
    "    driver.get(f'https://www.flipkart.com/nikon-d5600-dslr-camera-body-dual-lens-af-p-dx-nikkor-18-55-mm-f-3-5-5-6g-vr-70-300-f-4-5-6-3g-ed/product-reviews/itm8bd75efa91403?pid=DLLEZVB8MDXDYTHG&lid=LSTDLLEZVB8MDXDYTHGP8CUFI&aid=overall&certifiedBuyer=false&sortOrder=NEGATIVE_FIRST&page={i}')\n",
    "    \n",
    "    main = driver.find_elements_by_xpath(\"//div[@class='col _2wzgFH K0kLPL']\")\n",
    "    for j in main:\n",
    "        try:\n",
    "            review = j.find_element_by_xpath(\".//div[@class='t-ZTKy']/div/div\")\n",
    "            Review.append(review.text)\n",
    "            rating = j.find_element_by_xpath(\"./div/div\")\n",
    "            Rating.append(rating.text)\n",
    "        except NoSuchElementException:\n",
    "            Review.append('-')\n",
    "            Rating.append(\"-\")"
   ]
  },
  {
   "cell_type": "code",
   "execution_count": 15,
   "metadata": {},
   "outputs": [],
   "source": [
    "for i in range(22,90):\n",
    "    \n",
    "    driver.get(f'https://www.flipkart.com/tp-link-archer-c20-ac-wireless-dual-band-750-mbps-router/product-reviews/itme8gkfgb5hyqzq?pid=RTRE8GKF2CUJ2GNN&lid=LSTRTRE8GKF2CUJ2GNNA9BJX3&aid=overall&certifiedBuyer=false&sortOrder=NEGATIVE_FIRST&page={i}')\n",
    "    \n",
    "    main = driver.find_elements_by_xpath(\"//div[@class='col _2wzgFH K0kLPL']\")\n",
    "    for j in main:\n",
    "        try:\n",
    "            review = j.find_element_by_xpath(\".//div[@class='t-ZTKy']/div/div\")\n",
    "            Review.append(review.text)\n",
    "            rating = j.find_element_by_xpath(\"./div/div\")\n",
    "            Rating.append(rating.text)\n",
    "        except NoSuchElementException:\n",
    "            Review.append('-')\n",
    "            Rating.append(\"-\")"
   ]
  },
  {
   "cell_type": "code",
   "execution_count": 16,
   "metadata": {},
   "outputs": [],
   "source": [
    "for i in range(38,56):\n",
    "    \n",
    "    driver.get(f'https://www.flipkart.com/intex-it-2616-bt-55-w-bluetooth-home-theatre/product-reviews/itm835ba2477ca67?pid=ACCFNMEYJNHSNCWN&lid=LSTACCFNMEYJNHSNCWNXWFCRW&aid=overall&certifiedBuyer=false&sortOrder=NEGATIVE_FIRST&page={i}')\n",
    "    \n",
    "    main = driver.find_elements_by_xpath(\"//div[@class='col _2wzgFH K0kLPL']\")\n",
    "    for j in main:\n",
    "        try:\n",
    "            review = j.find_element_by_xpath(\".//div[@class='t-ZTKy']/div/div\")\n",
    "            Review.append(review.text)\n",
    "            rating = j.find_element_by_xpath(\"./div/div\")\n",
    "            Rating.append(rating.text)\n",
    "        except NoSuchElementException:\n",
    "            Review.append('-')\n",
    "            Rating.append(\"-\")\n",
    "        except TimeoutException:\n",
    "            driver.refresh()"
   ]
  },
  {
   "cell_type": "code",
   "execution_count": 17,
   "metadata": {},
   "outputs": [],
   "source": [
    "for i in range(1,130):\n",
    "    \n",
    "    driver.get(f'https://www.amazon.in/TP-Link-Archer-C6-Wireless-MU-MIMO/product-reviews/B07GVR9TG7/ref=cm_cr_arp_d_viewpnt_rgt?ie=UTF8&reviewerType=all_reviews&filterByStar=critical&pageNumber={i}')\n",
    "    \n",
    "    main = driver.find_elements_by_xpath(\"//div[@class ='a-section review aok-relative']\")\n",
    "    for j in main:\n",
    "        try: \n",
    "            review = j.find_element_by_xpath(\".//div[4]/span/span\")\n",
    "            Review.append(review.text)\n",
    "            rating = j.find_element_by_xpath(\".//div[2]/a\")\n",
    "            Rating.append(rating.get_attribute('title').split()[0])\n",
    "            \n",
    "        except NoSuchElementException:\n",
    "            Review.append('-')\n",
    "            Rating.append(\"-\")\n",
    "        except TimeoutException:\n",
    "            driver.refresh()"
   ]
  },
  {
   "cell_type": "code",
   "execution_count": 18,
   "metadata": {},
   "outputs": [],
   "source": [
    "for i in range(1,250):\n",
    "    \n",
    "    driver.get(f'https://www.amazon.in/HP-DeskJet-Inkjet-Colour-Printer/product-reviews/B08D9NDZ1Y/ref=cm_cr_arp_d_viewpnt_rgt?ie=UTF8&reviewerType=all_reviews&filterByStar=critical&pageNumber={i}')\n",
    "    \n",
    "    main = driver.find_elements_by_xpath(\"//div[@class ='a-section review aok-relative']\")\n",
    "    for j in main:\n",
    "        try: \n",
    "            review = j.find_element_by_xpath(\".//div[4]/span/span\")\n",
    "            Review.append(review.text)\n",
    "            rating = j.find_element_by_xpath(\".//div[2]/a\")\n",
    "            Rating.append(rating.get_attribute('title').split()[0])\n",
    "            \n",
    "        except NoSuchElementException:\n",
    "            Review.append('-')\n",
    "            Rating.append(\"-\")\n",
    "        except TimeoutException:\n",
    "            driver.refresh()"
   ]
  },
  {
   "cell_type": "code",
   "execution_count": 19,
   "metadata": {},
   "outputs": [],
   "source": [
    "for i in range(1,50):\n",
    "    \n",
    "    driver.get(f'https://www.amazon.in/realme-Fashion-Display-Continuous-Monitor/product-reviews/B089NZG3Z3/ref=cm_cr_arp_d_paging_btm_next_2?ie=UTF8&reviewerType=all_reviews&pageNumber={i}')\n",
    "    \n",
    "    main = driver.find_elements_by_xpath(\"//div[@class ='a-section review aok-relative']\")\n",
    "    for j in main:\n",
    "        try: \n",
    "            review = j.find_element_by_xpath(\".//div[4]/span/span\")\n",
    "            Review.append(review.text)\n",
    "            rating = j.find_element_by_xpath(\".//div[2]/a\")\n",
    "            Rating.append(rating.get_attribute('title').split()[0])\n",
    "            \n",
    "        except NoSuchElementException:\n",
    "            Review.append('-')\n",
    "            Rating.append(\"-\")\n",
    "        except TimeoutException:\n",
    "            driver.refresh()"
   ]
  },
  {
   "cell_type": "code",
   "execution_count": 20,
   "metadata": {},
   "outputs": [],
   "source": [
    "for i in range(1,50):\n",
    "    \n",
    "    driver.get(f'https://www.amazon.in/HP-15-6-inch-Laptop-Windows-15s-gy0003AU/product-reviews/B08RFTYKFZ/ref=cm_cr_arp_d_paging_btm_next_2?ie=UTF8&reviewerType=all_reviews&pageNumber={i}')\n",
    "    \n",
    "    main = driver.find_elements_by_xpath(\"//div[@class ='a-section review aok-relative']\")\n",
    "    for j in main:\n",
    "        try: \n",
    "            review = j.find_element_by_xpath(\".//div[4]/span/span\")\n",
    "            Review.append(review.text)\n",
    "            rating = j.find_element_by_xpath(\".//div[2]/a\")\n",
    "            Rating.append(rating.get_attribute('title').split()[0])\n",
    "            \n",
    "        except NoSuchElementException:\n",
    "            Review.append('-')\n",
    "            Rating.append(\"-\")\n",
    "        except TimeoutException:\n",
    "            driver.refresh()"
   ]
  },
  {
   "cell_type": "code",
   "execution_count": 21,
   "metadata": {},
   "outputs": [],
   "source": [
    "for i in range(130,185):\n",
    "    \n",
    "    driver.get(f'https://www.flipkart.com/poco-m3-cool-blue-64-gb/product-reviews/itmc8ec867cb0472?pid=MOBFZTCUDDCTDN3G&lid=LSTMOBFZTCUDDCTDN3GJBLKQ8&aid=overall&certifiedBuyer=false&sortOrder=NEGATIVE_FIRST&page={i}')\n",
    "    \n",
    "    main = driver.find_elements_by_xpath(\"//div[@class='col _2wzgFH K0kLPL']\")\n",
    "    for j in main:\n",
    "        try:\n",
    "            review = j.find_element_by_xpath(\".//div[@class='t-ZTKy']/div/div\")\n",
    "            Review.append(review.text)\n",
    "            rating = j.find_element_by_xpath(\"./div/div\")\n",
    "            Rating.append(rating.text)\n",
    "        except NoSuchElementException:\n",
    "            Review.append('-')\n",
    "            Rating.append(\"-\")\n",
    "        except TimeoutException:\n",
    "            driver.refresh()"
   ]
  },
  {
   "cell_type": "code",
   "execution_count": 22,
   "metadata": {},
   "outputs": [],
   "source": [
    "for i in range(146,220):\n",
    "    \n",
    "    driver.get(f'https://www.flipkart.com/canon-pixma-mg2470-all-in-one-inkjet-printer/product-reviews/itmdqatqsyzyzffn?pid=PRNDQAR9KZEKSKRF&lid=LSTPRNDQAR9KZEKSKRFEMB7B0&aid=overall&certifiedBuyer=false&sortOrder=NEGATIVE_FIRST&page={i}')\n",
    "    \n",
    "    main = driver.find_elements_by_xpath(\"//div[@class='col _2wzgFH K0kLPL']\")\n",
    "    for j in main:\n",
    "        try:\n",
    "            review = j.find_element_by_xpath(\".//div[@class='t-ZTKy']/div/div\")\n",
    "            Review.append(review.text)\n",
    "            rating = j.find_element_by_xpath(\"./div/div\")\n",
    "            Rating.append(rating.text)\n",
    "        except NoSuchElementException:\n",
    "            Review.append('-')\n",
    "            Rating.append(\"-\")\n",
    "        except TimeoutException:\n",
    "            driver.refresh()"
   ]
  },
  {
   "cell_type": "code",
   "execution_count": 23,
   "metadata": {},
   "outputs": [],
   "source": [
    "for i in range(1,100):\n",
    "    \n",
    "    driver.get(f'https://www.amazon.in/Fire-Boltt-Bluetooth-Headphones-Lightweight-Assistance/product-reviews/B0814GJNKG/ref=cm_cr_arp_d_paging_btm_next_2?ie=UTF8&reviewerType=all_reviews&pageNumber={i}')\n",
    "    \n",
    "    main = driver.find_elements_by_xpath(\"//div[@class ='a-section review aok-relative']\")\n",
    "    for j in main:\n",
    "        try: \n",
    "            review = j.find_element_by_xpath(\".//div[4]/span/span\")\n",
    "            Review.append(review.text)\n",
    "            rating = j.find_element_by_xpath(\".//div[2]/a\")\n",
    "            Rating.append(rating.get_attribute('title').split()[0])\n",
    "            \n",
    "        except NoSuchElementException:\n",
    "            Review.append('-')\n",
    "            Rating.append(\"-\")\n",
    "        except TimeoutException:\n",
    "            driver.refresh()"
   ]
  },
  {
   "cell_type": "code",
   "execution_count": 24,
   "metadata": {},
   "outputs": [],
   "source": [
    "for i in range(1,120):\n",
    "    \n",
    "    driver.get(f'https://www.amazon.in/Samsung-Galaxy-Lite-Wi-Fi-Oxford/product-reviews/B089M2KDKW/ref=cm_cr_arp_d_paging_btm_next_2?ie=UTF8&reviewerType=all_reviews&pageNumber={i}')\n",
    "    \n",
    "    main = driver.find_elements_by_xpath(\"//div[@class ='a-section review aok-relative']\")\n",
    "    for j in main:\n",
    "        try: \n",
    "            review = j.find_element_by_xpath(\".//div[4]/span/span\")\n",
    "            Review.append(review.text)\n",
    "            rating = j.find_element_by_xpath(\".//div[2]/a\")\n",
    "            Rating.append(rating.get_attribute('title').split()[0])\n",
    "            \n",
    "        except NoSuchElementException:\n",
    "            Review.append('-')\n",
    "            Rating.append(\"-\")\n",
    "        except TimeoutException:\n",
    "            driver.refresh()"
   ]
  },
  {
   "cell_type": "code",
   "execution_count": 25,
   "metadata": {},
   "outputs": [],
   "source": [
    "for i in range(711,999):\n",
    "    \n",
    "    driver.get(f'https://www.flipkart.com/boat-rockerz-235v2-asap-charging-version-5-0-bluetooth-headset/product-reviews/itmffacf2db2cc8f?pid=ACCFZGAQJGYCYDCM&lid=LSTACCFZGAQJGYCYDCMMCMPP5&aid=overall&certifiedBuyer=false&sortOrder=NEGATIVE_FIRST&page={i}')\n",
    "    \n",
    "    main = driver.find_elements_by_xpath(\"//div[@class='col _2wzgFH K0kLPL']\")\n",
    "    for j in main:\n",
    "        try:\n",
    "            review = j.find_element_by_xpath(\".//div[@class='t-ZTKy']/div/div\")\n",
    "            Review.append(review.text)\n",
    "            rating = j.find_element_by_xpath(\"./div/div\")\n",
    "            Rating.append(rating.text)\n",
    "        except NoSuchElementException:\n",
    "            Review.append('-')\n",
    "            Rating.append(\"-\")\n",
    "        except TimeoutException:\n",
    "            driver.refresh()"
   ]
  },
  {
   "cell_type": "code",
   "execution_count": 26,
   "metadata": {},
   "outputs": [],
   "source": [
    "for i in range(1,150):\n",
    "    \n",
    "    driver.get(f'https://www.amazon.in/Zebronics-BT6590RUCF-Channel-Multimedia-Speakers/product-reviews/B00IJ443CA/ref=cm_cr_getr_d_paging_btm_next_2?ie=UTF8&reviewerType=all_reviews&pageNumber={i}&filterByStar=positive')\n",
    "    \n",
    "    main = driver.find_elements_by_xpath(\"//div[@class ='a-section review aok-relative']\")\n",
    "    for j in main:\n",
    "        try: \n",
    "            review = j.find_element_by_xpath(\".//div[4]/span/span\")\n",
    "            Review.append(review.text)\n",
    "            rating = j.find_element_by_xpath(\".//div[2]/a\")\n",
    "            Rating.append(rating.get_attribute('title').split()[0])\n",
    "            \n",
    "        except NoSuchElementException:\n",
    "            Review.append('-')\n",
    "            Rating.append(\"-\")\n",
    "        except TimeoutException:\n",
    "            driver.refresh()"
   ]
  },
  {
   "cell_type": "code",
   "execution_count": 27,
   "metadata": {},
   "outputs": [],
   "source": [
    "for i in range(112,173):\n",
    "    \n",
    "    driver.get(f'https://www.flipkart.com/f-d-f-3800x-80-w-bluetooth-home-theatre/product-reviews/itm56290d65f89d8?pid=ACCEPBZPPVF5FAVK&lid=LSTACCEPBZPPVF5FAVKDVTTPD&aid=overall&certifiedBuyer=false&sortOrder=POSITIVE_FIRST&page={i}')\n",
    "    \n",
    "    main = driver.find_elements_by_xpath(\"//div[@class='col _2wzgFH K0kLPL']\")\n",
    "    for j in main:\n",
    "        try:\n",
    "            review = j.find_element_by_xpath(\".//div[@class='t-ZTKy']/div/div\")\n",
    "            Review.append(review.text)\n",
    "            rating = j.find_element_by_xpath(\"./div/div\")\n",
    "            Rating.append(rating.text)\n",
    "        except NoSuchElementException:\n",
    "            Review.append('-')\n",
    "            Rating.append(\"-\")\n",
    "        except TimeoutException:\n",
    "            driver.refresh()"
   ]
  },
  {
   "cell_type": "code",
   "execution_count": 28,
   "metadata": {},
   "outputs": [],
   "source": [
    "for i in range(150,400):\n",
    "    \n",
    "    driver.get(f'https://www.flipkart.com/boat-bassheads-900-super-extra-bass-wired-headset/product-reviews/itmfdd472e0f8709?pid=ACCFFMC7DN6GZ9SH&lid=LSTACCFFMC7DN6GZ9SHX8EZXP&aid=overall&certifiedBuyer=false&sortOrder=NEGATIVE_FIRST&page={i}')\n",
    "    \n",
    "    main = driver.find_elements_by_xpath(\"//div[@class='col _2wzgFH K0kLPL']\")\n",
    "    for j in main:\n",
    "        try:\n",
    "            review = j.find_element_by_xpath(\".//div[@class='t-ZTKy']/div/div\")\n",
    "            Review.append(review.text)\n",
    "            rating = j.find_element_by_xpath(\"./div/div\")\n",
    "            Rating.append(rating.text)\n",
    "        except NoSuchElementException:\n",
    "            Review.append('-')\n",
    "            Rating.append(\"-\")\n",
    "        except TimeoutException:\n",
    "            driver.refresh()"
   ]
  },
  {
   "cell_type": "code",
   "execution_count": 30,
   "metadata": {},
   "outputs": [],
   "source": [
    "for i in range(1,100):\n",
    "    \n",
    "    driver.get(f'https://www.flipkart.com/oneplus-bullets-wireless-z-bass-bluetooth-headset/product-reviews/itm2a2d8765c11d5?pid=ACCG2K38YCACC3XV&lid=LSTACCG2K38YCACC3XVJYX6YF&aid=overall&certifiedBuyer=false&sortOrder=NEGATIVE_FIRST&page={i}')\n",
    "    \n",
    "    main = driver.find_elements_by_xpath(\"//div[@class='col _2wzgFH K0kLPL']\")\n",
    "    for j in main:\n",
    "        try:\n",
    "            review = j.find_element_by_xpath(\".//div[@class='t-ZTKy']/div/div\")\n",
    "            Review.append(review.text)\n",
    "            rating = j.find_element_by_xpath(\"./div/div\")\n",
    "            Rating.append(rating.text)\n",
    "        except NoSuchElementException:\n",
    "            Review.append('-')\n",
    "            Rating.append(\"-\")\n",
    "        except TimeoutException:\n",
    "            driver.refresh()"
   ]
  },
  {
   "cell_type": "code",
   "execution_count": 31,
   "metadata": {},
   "outputs": [],
   "source": [
    "for i in range(1,70):\n",
    "    \n",
    "    driver.get(f'https://www.flipkart.com/oneplus-bullets-wireless-z-bass-bluetooth-headset/product-reviews/itm2a2d8765c11d5?pid=ACCG2K38YCACC3XV&lid=LSTACCG2K38YCACC3XVJYX6YF&aid=overall&certifiedBuyer=false&sortOrder=POSITIVE_FIRST&page={i}')\n",
    "    \n",
    "    main = driver.find_elements_by_xpath(\"//div[@class='col _2wzgFH K0kLPL']\")\n",
    "    for j in main:\n",
    "        try:\n",
    "            review = j.find_element_by_xpath(\".//div[@class='t-ZTKy']/div/div\")\n",
    "            Review.append(review.text)\n",
    "            rating = j.find_element_by_xpath(\"./div/div\")\n",
    "            Rating.append(rating.text)\n",
    "        except NoSuchElementException:\n",
    "            Review.append('-')\n",
    "            Rating.append(\"-\")\n",
    "        except TimeoutException:\n",
    "            driver.refresh()"
   ]
  },
  {
   "cell_type": "code",
   "execution_count": 32,
   "metadata": {},
   "outputs": [],
   "source": [
    "for i in range(1,60):\n",
    "    \n",
    "    driver.get(f'https://www.flipkart.com/noise-colorfit-pro-2-smartwatch/product-reviews/itmaa88cacb57263?pid=SMWFH4MV2GXKDHCN&lid=LSTSMWFH4MV2GXKDHCNRUOKT1&aid=overall&certifiedBuyer=false&sortOrder=NEGATIVE_FIRST&page={i}')\n",
    "    \n",
    "    main = driver.find_elements_by_xpath(\"//div[@class='col _2wzgFH K0kLPL']\")\n",
    "    for j in main:\n",
    "        try:\n",
    "            review = j.find_element_by_xpath(\".//div[@class='t-ZTKy']/div/div\")\n",
    "            Review.append(review.text)\n",
    "            rating = j.find_element_by_xpath(\"./div/div\")\n",
    "            Rating.append(rating.text)\n",
    "        except NoSuchElementException:\n",
    "            Review.append('-')\n",
    "            Rating.append(\"-\")\n",
    "        except TimeoutException:\n",
    "            driver.refresh()"
   ]
  },
  {
   "cell_type": "code",
   "execution_count": 33,
   "metadata": {},
   "outputs": [],
   "source": [
    "for i in range(140,225):\n",
    "    \n",
    "    driver.get(f'https://www.flipkart.com/noise-colorfit-pro-2-smartwatch/product-reviews/itmaa88cacb57263?pid=SMWFH4MV2GXKDHCN&lid=LSTSMWFH4MV2GXKDHCNRUOKT1&aid=overall&certifiedBuyer=false&sortOrder=NEGATIVE_FIRST&page={i}')\n",
    "    \n",
    "    main = driver.find_elements_by_xpath(\"//div[@class='col _2wzgFH K0kLPL']\")\n",
    "    for j in main:\n",
    "        try:\n",
    "            review = j.find_element_by_xpath(\".//div[@class='t-ZTKy']/div/div\")\n",
    "            Review.append(review.text)\n",
    "            rating = j.find_element_by_xpath(\"./div/div\")\n",
    "            Rating.append(rating.text)\n",
    "        except NoSuchElementException:\n",
    "            Review.append('-')\n",
    "            Rating.append(\"-\")\n",
    "        except TimeoutException:\n",
    "            driver.refresh()"
   ]
  },
  {
   "cell_type": "code",
   "execution_count": 34,
   "metadata": {},
   "outputs": [
    {
     "data": {
      "text/plain": [
       "23564"
      ]
     },
     "execution_count": 34,
     "metadata": {},
     "output_type": "execute_result"
    }
   ],
   "source": [
    "len(Review)"
   ]
  },
  {
   "cell_type": "code",
   "execution_count": 35,
   "metadata": {},
   "outputs": [
    {
     "data": {
      "text/plain": [
       "23564"
      ]
     },
     "execution_count": 35,
     "metadata": {},
     "output_type": "execute_result"
    }
   ],
   "source": [
    "len(Rating)"
   ]
  },
  {
   "cell_type": "code",
   "execution_count": 36,
   "metadata": {},
   "outputs": [
    {
     "data": {
      "text/html": [
       "<div>\n",
       "<style scoped>\n",
       "    .dataframe tbody tr th:only-of-type {\n",
       "        vertical-align: middle;\n",
       "    }\n",
       "\n",
       "    .dataframe tbody tr th {\n",
       "        vertical-align: top;\n",
       "    }\n",
       "\n",
       "    .dataframe thead th {\n",
       "        text-align: right;\n",
       "    }\n",
       "</style>\n",
       "<table border=\"1\" class=\"dataframe\">\n",
       "  <thead>\n",
       "    <tr style=\"text-align: right;\">\n",
       "      <th></th>\n",
       "      <th>Review</th>\n",
       "      <th>Rating</th>\n",
       "    </tr>\n",
       "  </thead>\n",
       "  <tbody>\n",
       "    <tr>\n",
       "      <th>0</th>\n",
       "      <td>Perfect product!</td>\n",
       "      <td>5</td>\n",
       "    </tr>\n",
       "    <tr>\n",
       "      <th>1</th>\n",
       "      <td>Perfect product!</td>\n",
       "      <td>5</td>\n",
       "    </tr>\n",
       "    <tr>\n",
       "      <th>2</th>\n",
       "      <td>Highly recommended</td>\n",
       "      <td>5</td>\n",
       "    </tr>\n",
       "    <tr>\n",
       "      <th>3</th>\n",
       "      <td>Classy product</td>\n",
       "      <td>5</td>\n",
       "    </tr>\n",
       "    <tr>\n",
       "      <th>4</th>\n",
       "      <td>Worth every penny</td>\n",
       "      <td>5</td>\n",
       "    </tr>\n",
       "  </tbody>\n",
       "</table>\n",
       "</div>"
      ],
      "text/plain": [
       "               Review Rating\n",
       "0    Perfect product!      5\n",
       "1    Perfect product!      5\n",
       "2  Highly recommended      5\n",
       "3      Classy product      5\n",
       "4   Worth every penny      5"
      ]
     },
     "execution_count": 36,
     "metadata": {},
     "output_type": "execute_result"
    }
   ],
   "source": [
    "df = pd.DataFrame({'Review':Review,'Rating':Rating})\n",
    "df.head()"
   ]
  },
  {
   "cell_type": "code",
   "execution_count": 37,
   "metadata": {},
   "outputs": [
    {
     "data": {
      "text/plain": [
       "Review    object\n",
       "Rating    object\n",
       "dtype: object"
      ]
     },
     "execution_count": 37,
     "metadata": {},
     "output_type": "execute_result"
    }
   ],
   "source": [
    "df.dtypes"
   ]
  },
  {
   "cell_type": "code",
   "execution_count": 38,
   "metadata": {},
   "outputs": [],
   "source": [
    "df.replace('-','NaN',inplace=True)"
   ]
  },
  {
   "cell_type": "code",
   "execution_count": 39,
   "metadata": {},
   "outputs": [],
   "source": [
    "df['Rating']= df['Rating'].astype(float)"
   ]
  },
  {
   "cell_type": "code",
   "execution_count": 40,
   "metadata": {},
   "outputs": [],
   "source": [
    "df.dropna(inplace=True)"
   ]
  },
  {
   "cell_type": "code",
   "execution_count": 41,
   "metadata": {},
   "outputs": [],
   "source": [
    "df['Rating']= df['Rating'].astype(int)"
   ]
  },
  {
   "cell_type": "code",
   "execution_count": 50,
   "metadata": {},
   "outputs": [],
   "source": [
    "df.to_csv(r'C:\\Users\\Dell\\OneDrive\\rating prediction\\ratings data.csv',index=False)"
   ]
  },
  {
   "cell_type": "code",
   "execution_count": null,
   "metadata": {},
   "outputs": [],
   "source": []
  }
 ],
 "metadata": {
  "kernelspec": {
   "display_name": "Python 3",
   "language": "python",
   "name": "python3"
  },
  "language_info": {
   "codemirror_mode": {
    "name": "ipython",
    "version": 3
   },
   "file_extension": ".py",
   "mimetype": "text/x-python",
   "name": "python",
   "nbconvert_exporter": "python",
   "pygments_lexer": "ipython3",
   "version": "3.8.3"
  }
 },
 "nbformat": 4,
 "nbformat_minor": 4
}
